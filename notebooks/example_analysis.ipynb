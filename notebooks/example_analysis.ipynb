{
 "cells": [
  {
   "cell_type": "markdown",
   "id": "f2834825",
   "metadata": {},
   "source": [
    "# HSI Biopsy Data Analysis Example\n",
    "\n",
    "This notebook demonstrates basic loading and analysis of hyperspectral imaging data from biopsy samples."
   ]
  },
  {
   "cell_type": "code",
   "execution_count": null,
   "id": "1e9ff3b7",
   "metadata": {},
   "outputs": [],
   "source": [
    "import numpy as np\n",
    "import matplotlib.pyplot as plt\n",
    "import os\n",
    "import sys\n",
    "\n",
    "# Add project root to path\n",
    "sys.path.append('..')\n",
    "\n",
    "# Import project modules\n",
    "from src import preprocessing"
   ]
  },
  {
   "cell_type": "markdown",
   "id": "7f3ab2ec",
   "metadata": {},
   "source": [
    "## Data Loading\n",
    "\n",
    "In this section, we would load the HSI data. For now, we'll create a synthetic example."
   ]
  },
  {
   "cell_type": "code",
   "execution_count": null,
   "id": "8c7ac841",
   "metadata": {},
   "outputs": [],
   "source": [
    "# Create synthetic HSI data for demonstration\n",
    "# In real applications, this would be loaded from actual data files\n",
    "\n",
    "# Create a 100x100 spatial image with 50 spectral bands\n",
    "rows, cols, bands = 100, 100, 50\n",
    "wavelengths = np.linspace(400, 900, bands)  # wavelengths in nm\n",
    "\n",
    "# Create synthetic HSI cube\n",
    "hsi_data = np.zeros((rows, cols, bands))\n",
    "\n",
    "# Add some synthetic spectral signatures\n",
    "for i in range(rows):\n",
    "    for j in range(cols):\n",
    "        # Base spectrum - Gaussian centered at different wavelengths\n",
    "        center = 400 + (i * 5) % 500  # different centers based on position\n",
    "        hsi_data[i, j, :] = np.exp(-0.5 * ((wavelengths - center) / 50) ** 2)\n",
    "        \n",
    "        # Add noise\n",
    "        hsi_data[i, j, :] += np.random.normal(0, 0.05, bands)\n",
    "\n",
    "# Add a synthetic anomaly/region of interest\n",
    "center_i, center_j = rows // 2, cols // 2\n",
    "radius = 15\n",
    "\n",
    "for i in range(center_i - radius, center_i + radius):\n",
    "    for j in range(center_j - radius, center_j + radius):\n",
    "        if 0 <= i < rows and 0 <= j < cols:\n",
    "            if ((i - center_i) ** 2 + (j - center_j) ** 2) < radius ** 2:\n",
    "                # Different spectral signature for the region of interest\n",
    "                hsi_data[i, j, :] = np.exp(-0.5 * ((wavelengths - 700) / 30) ** 2) + np.random.normal(0, 0.05, bands)"
   ]
  },
  {
   "cell_type": "markdown",
   "id": "680bd834",
   "metadata": {},
   "source": [
    "## Visualization\n",
    "\n",
    "Let's visualize the data by creating an RGB representation and looking at some spectral signatures."
   ]
  },
  {
   "cell_type": "code",
   "execution_count": null,
   "id": "b76f0a81",
   "metadata": {},
   "outputs": [],
   "source": [
    "def create_rgb(hsi_data, wavelengths, r_band=650, g_band=550, b_band=450):\n",
    "    \"\"\"Create RGB image from hyperspectral data\"\"\"\n",
    "    # Find closest wavelength bands\n",
    "    r_idx = np.argmin(np.abs(wavelengths - r_band))\n",
    "    g_idx = np.argmin(np.abs(wavelengths - g_band))\n",
    "    b_idx = np.argmin(np.abs(wavelengths - b_band))\n",
    "    \n",
    "    # Create RGB image\n",
    "    rgb = np.zeros((hsi_data.shape[0], hsi_data.shape[1], 3))\n",
    "    rgb[:, :, 0] = hsi_data[:, :, r_idx]\n",
    "    rgb[:, :, 1] = hsi_data[:, :, g_idx]\n",
    "    rgb[:, :, 2] = hsi_data[:, :, b_idx]\n",
    "    \n",
    "    # Normalize to 0-1 range for display\n",
    "    for i in range(3):\n",
    "        channel_min = rgb[:, :, i].min()\n",
    "        channel_max = rgb[:, :, i].max()\n",
    "        rgb[:, :, i] = (rgb[:, :, i] - channel_min) / (channel_max - channel_min)\n",
    "    \n",
    "    return rgb\n",
    "\n",
    "# Create and display RGB image\n",
    "rgb_image = create_rgb(hsi_data, wavelengths)\n",
    "\n",
    "plt.figure(figsize=(10, 8))\n",
    "plt.imshow(rgb_image)\n",
    "plt.title('RGB Representation of HSI Data')\n",
    "plt.axis('off')\n",
    "plt.colorbar(label='Intensity')\n",
    "plt.show()\n",
    "\n",
    "# Plot some example spectra\n",
    "plt.figure(figsize=(12, 6))\n",
    "\n",
    "# Normal tissue spectrum (from outside the ROI)\n",
    "normal_i, normal_j = 10, 10\n",
    "plt.plot(wavelengths, hsi_data[normal_i, normal_j, :], 'b-', label='Normal tissue')\n",
    "\n",
    "# ROI spectrum (from inside the circle)\n",
    "roi_i, roi_j = center_i, center_j\n",
    "plt.plot(wavelengths, hsi_data[roi_i, roi_j, :], 'r-', label='Region of interest')\n",
    "\n",
    "plt.xlabel('Wavelength (nm)')\n",
    "plt.ylabel('Intensity')\n",
    "plt.title('Spectral Signatures')\n",
    "plt.legend()\n",
    "plt.grid(True)\n",
    "plt.show()"
   ]
  },
  {
   "cell_type": "markdown",
   "id": "016aad09",
   "metadata": {},
   "source": [
    "## Next Steps\n",
    "\n",
    "In a real analysis workflow, next steps might include:\n",
    "\n",
    "1. Spectral preprocessing (smoothing, normalization)\n",
    "2. Dimensionality reduction (PCA, t-SNE)\n",
    "3. Feature extraction\n",
    "4. Classification or clustering\n",
    "5. Validation against ground truth\n",
    "\n",
    "These steps would be implemented as the project develops."
   ]
  }
 ],
 "metadata": {
  "language_info": {
   "name": "python"
  }
 },
 "nbformat": 4,
 "nbformat_minor": 5
}
